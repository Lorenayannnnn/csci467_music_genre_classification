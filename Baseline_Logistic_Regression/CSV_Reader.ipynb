{
 "cells": [
  {
   "cell_type": "code",
   "execution_count": 39,
   "id": "da94d3c1",
   "metadata": {},
   "outputs": [],
   "source": [
    "import torch\n",
    "import pandas as pd\n",
    "from torch.utils.data import DataLoader, TensorDataset, Dataset\n",
    "import numpy as np\n"
   ]
  },
  {
   "cell_type": "code",
   "execution_count": 4,
   "id": "e24472c4",
   "metadata": {},
   "outputs": [
    {
     "name": "stdout",
     "output_type": "stream",
     "text": [
      "features_30_sec.csv features_3_sec.csv  \u001b[34mgenres_original\u001b[m\u001b[m     \u001b[34mimages_original\u001b[m\u001b[m\r\n"
     ]
    }
   ],
   "source": [
    "!ls ./../data/"
   ]
  },
  {
   "cell_type": "code",
   "execution_count": 44,
   "id": "405aecbf",
   "metadata": {},
   "outputs": [
    {
     "name": "stdout",
     "output_type": "stream",
     "text": [
      "0       blues\n",
      "1       blues\n",
      "2       blues\n",
      "3       blues\n",
      "4       blues\n",
      "        ...  \n",
      "9985     rock\n",
      "9986     rock\n",
      "9987     rock\n",
      "9988     rock\n",
      "9989     rock\n",
      "Name: label, Length: 9990, dtype: object\n"
     ]
    }
   ],
   "source": [
    "file = pd.read_csv(\"./../data/features_3_sec.csv\")\n",
    "# print(list(filter(lambda x : x[:11] == \"blues.00000\", file.iloc[:, 0])))\n",
    "print(file.iloc[:, -1])\n"
   ]
  },
  {
   "cell_type": "code",
   "execution_count": 50,
   "id": "e3f51d36",
   "metadata": {},
   "outputs": [
    {
     "name": "stdout",
     "output_type": "stream",
     "text": [
      "torch.Size([32, 58])\n"
     ]
    }
   ],
   "source": [
    "\n",
    "class MyDataset(Dataset):\n",
    " \n",
    "  def __init__(self, file_name):\n",
    "    price_df=pd.read_csv(file_name)\n",
    "    labels = [\"blues\", \"classical\", \"country\", \"disco\", \"hiphop\", \"jazz\", \"metal\", \"pop\", \"reggae\", \"rock\"]\n",
    " \n",
    "    x=price_df.iloc[:,1:-1].values\n",
    "#     print(x)\n",
    "    \n",
    "#     labelExtract = lambda x: i = i[:5] for i in x\n",
    "    y=np.array(list(map(lambda x: labels.index(x), price_df.iloc[:,-1].values)))\n",
    " \n",
    "    self.x_train=torch.tensor(x,dtype=torch.float32)\n",
    "    self.y_train=torch.tensor(y,dtype=torch.float32)\n",
    " \n",
    "  def __len__(self):\n",
    "    return len(self.y_train)\n",
    "   \n",
    "  def __getitem__(self,idx):\n",
    "    return self.x_train[idx],self.y_train[idx]\n",
    "\n",
    "myDs = MyDataset(\"./../data/features_3_sec.csv\")\n",
    "\n",
    "for batch in DataLoader(myDs, batch_size = 32, shuffle = True):\n",
    "    x_batch, y_batch = batch\n",
    "    print(x_batch.shape)\n",
    "    break"
   ]
  },
  {
   "cell_type": "code",
   "execution_count": null,
   "id": "b6510c7a",
   "metadata": {},
   "outputs": [],
   "source": []
  }
 ],
 "metadata": {
  "kernelspec": {
   "display_name": "Python 3 (ipykernel)",
   "language": "python",
   "name": "python3"
  },
  "language_info": {
   "codemirror_mode": {
    "name": "ipython",
    "version": 3
   },
   "file_extension": ".py",
   "mimetype": "text/x-python",
   "name": "python",
   "nbconvert_exporter": "python",
   "pygments_lexer": "ipython3",
   "version": "3.9.6"
  }
 },
 "nbformat": 4,
 "nbformat_minor": 5
}
