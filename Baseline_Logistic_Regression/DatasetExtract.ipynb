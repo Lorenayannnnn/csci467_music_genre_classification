{
 "cells": [
  {
   "cell_type": "code",
   "execution_count": 13,
   "id": "9138e9ef",
   "metadata": {},
   "outputs": [
    {
     "name": "stdout",
     "output_type": "stream",
     "text": [
      "\u001b[34mBaseline_Logistic_Regression\u001b[m\u001b[m data_split.py\r\n",
      "README.md                    data_split.txt\r\n",
      "\u001b[34mdata\u001b[m\u001b[m\r\n"
     ]
    }
   ],
   "source": [
    "!ls ./../"
   ]
  },
  {
   "cell_type": "code",
   "execution_count": 12,
   "id": "f5138044",
   "metadata": {},
   "outputs": [
    {
     "name": "stdout",
     "output_type": "stream",
     "text": [
      "['pop/pop00015.png', 'pop/pop00005.png', 'pop/pop00096.png', 'pop/pop00072.png', 'pop/pop00082.png', 'pop/pop00075.png', 'pop/pop00042.png', 'pop/pop00077.png', 'pop/pop00080.png', 'pop/pop00078.png', 'metal/metal00039.png', 'metal/metal00088.png', 'metal/metal00075.png', 'metal/metal00062.png', 'metal/metal00004.png', 'metal/metal00035.png', 'metal/metal00073.png', 'metal/metal00048.png', 'metal/metal00007.png', 'metal/metal00091.png', 'disco/disco00001.png', 'disco/disco00003.png', 'disco/disco00018.png', 'disco/disco00024.png', 'disco/disco00056.png', 'disco/disco00075.png', 'disco/disco00099.png', 'disco/disco00009.png', 'disco/disco00078.png', 'disco/disco00040.png', 'blues/blues00059.png', 'blues/blues00026.png', 'blues/blues00063.png', 'blues/blues00002.png', 'blues/blues00080.png', 'blues/blues00089.png', 'blues/blues00064.png', 'blues/blues00018.png', 'blues/blues00079.png', 'blues/blues00012.png', 'reggae/reggae00038.png', 'reggae/reggae00034.png', 'reggae/reggae00067.png', 'reggae/reggae00070.png', 'reggae/reggae00056.png', 'reggae/reggae00086.png', 'reggae/reggae00030.png', 'reggae/reggae00057.png', 'reggae/reggae00027.png', 'reggae/reggae00088.png', 'classical/classical00011.png', 'classical/classical00029.png', 'classical/classical00040.png', 'classical/classical00042.png', 'classical/classical00088.png', 'classical/classical00037.png', 'classical/classical00038.png', 'classical/classical00074.png', 'classical/classical00084.png', 'classical/classical00062.png', 'rock/rock00030.png', 'rock/rock00043.png', 'rock/rock00056.png', 'rock/rock00073.png', 'rock/rock00012.png', 'rock/rock00066.png', 'rock/rock00057.png', 'rock/rock00017.png', 'rock/rock00086.png', 'rock/rock00064.png', 'hiphop/hiphop00010.png', 'hiphop/hiphop00087.png', 'hiphop/hiphop00059.png', 'hiphop/hiphop00060.png', 'hiphop/hiphop00018.png', 'hiphop/hiphop00024.png', 'hiphop/hiphop00012.png', 'hiphop/hiphop00039.png', 'hiphop/hiphop00061.png', 'hiphop/hiphop00057.png', 'country/country00093.png', 'country/country00001.png', 'country/country00091.png', 'country/country00054.png', 'country/country00073.png', 'country/country00036.png', 'country/country00081.png', 'country/country00060.png', 'country/country00077.png', 'country/country00027.png', 'jazz/jazz00006.png', 'jazz/jazz00074.png', 'jazz/jazz00011.png', 'jazz/jazz00037.png', 'jazz/jazz00095.png', 'jazz/jazz00046.png', 'jazz/jazz00047.png', 'jazz/jazz00007.png', \"jazz/jazz00078.png'\"]\n"
     ]
    }
   ],
   "source": [
    "f = open('./../data_split.txt', 'r')\n",
    "\n",
    "f.readline() # Burn train\n",
    "\n",
    "trainNames = list(map(lambda x: x[1:-1], f.readline()[1:-1].split(\", \")))\n",
    "\n",
    "f.readline() # Burn dev\n",
    "\n",
    "devNames = list(map(lambda x: x[1:-1], f.readline()[1:-1].split(\", \")))\n",
    "\n",
    "f.readline() # Burn test\n",
    "\n",
    "testNames = list(map(lambda x: x[1:-1], f.readline()[1:-1].split(\", \")))\n",
    "\n",
    "print(testNames)\n"
   ]
  },
  {
   "cell_type": "code",
   "execution_count": 20,
   "id": "73d29018",
   "metadata": {},
   "outputs": [],
   "source": [
    "import numpy as np\n",
    "\n"
   ]
  },
  {
   "cell_type": "code",
   "execution_count": 38,
   "id": "4b75cd1d",
   "metadata": {},
   "outputs": [
    {
     "name": "stdout",
     "output_type": "stream",
     "text": [
      "(99,)\n",
      "(99,)\n",
      "(99,)\n",
      "(3, 99)\n"
     ]
    }
   ],
   "source": [
    "\n",
    "# stacked = np.array([])\n",
    "\n",
    "trainNames = np.array(trainNames[:99])\n",
    "testNames = np.array(testNames)\n",
    "devNames = np.array(devNames)[:99]\n",
    "\n",
    "\n",
    "print(trainNames.shape)\n",
    "print(testNames.shape)\n",
    "print(devNames.shape)\n",
    "totArr = [trainNames, testNames, devNames]\n",
    "finStack = np.stack(totArr)\n",
    "print(finStack.shape)\n",
    "# finStack = np.stack((finStack, devNames))\n",
    "\n",
    "# stacked += [trainNames]\n",
    "# print(stacked.shape)\n"
   ]
  },
  {
   "cell_type": "code",
   "execution_count": 33,
   "id": "41ba88bd",
   "metadata": {},
   "outputs": [
    {
     "name": "stdout",
     "output_type": "stream",
     "text": [
      "pop\n"
     ]
    }
   ],
   "source": [
    "print(trainNames[0][:trainNames[0].find(\"/\")])"
   ]
  },
  {
   "cell_type": "code",
   "execution_count": 45,
   "id": "b6ba7255",
   "metadata": {},
   "outputs": [
    {
     "name": "stdout",
     "output_type": "stream",
     "text": [
      "\u001b[31mneural.py\u001b[m\u001b[m   \u001b[31mq4_data.npy\u001b[m\u001b[m\r\n"
     ]
    }
   ],
   "source": [
    "!ls ./../../../hw2/code/q4_neuralnets"
   ]
  },
  {
   "cell_type": "code",
   "execution_count": 47,
   "id": "4d4fb30e",
   "metadata": {},
   "outputs": [],
   "source": [
    "import torch\n",
    "all_data = np.load('./../../../hw2/code/q4_neuralnets/q4_data.npy', allow_pickle=True).item()\n",
    "X_train = torch.tensor(all_data['X_train'], dtype=torch.float)\n",
    "y_train = torch.tensor(all_data['y_train'], dtype=torch.long)\n",
    "X_dev = torch.tensor(all_data['X_dev'], dtype=torch.float)\n",
    "y_dev = torch.tensor(all_data['y_dev'], dtype=torch.long)\n",
    "X_test = torch.tensor(all_data['X_test'], dtype=torch.float)\n",
    "y_test = torch.tensor(all_data['y_test'], dtype=torch.long)"
   ]
  },
  {
   "cell_type": "code",
   "execution_count": 53,
   "id": "50e181b7",
   "metadata": {},
   "outputs": [
    {
     "name": "stdout",
     "output_type": "stream",
     "text": [
      "tensor(0.1315)\n"
     ]
    }
   ],
   "source": [
    "print(torch.mean(X_dev))"
   ]
  },
  {
   "cell_type": "code",
   "execution_count": null,
   "id": "f5203278",
   "metadata": {},
   "outputs": [],
   "source": []
  }
 ],
 "metadata": {
  "kernelspec": {
   "display_name": "Python 3 (ipykernel)",
   "language": "python",
   "name": "python3"
  },
  "language_info": {
   "codemirror_mode": {
    "name": "ipython",
    "version": 3
   },
   "file_extension": ".py",
   "mimetype": "text/x-python",
   "name": "python",
   "nbconvert_exporter": "python",
   "pygments_lexer": "ipython3",
   "version": "3.9.6"
  }
 },
 "nbformat": 4,
 "nbformat_minor": 5
}
